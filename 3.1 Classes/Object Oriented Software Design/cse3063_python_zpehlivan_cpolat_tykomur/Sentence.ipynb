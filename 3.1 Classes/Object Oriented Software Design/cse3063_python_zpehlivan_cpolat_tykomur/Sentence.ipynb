{
 "cells": [
  {
   "cell_type": "code",
   "execution_count": null,
   "metadata": {},
   "outputs": [],
   "source": [
    "class Sentence:\n",
    "    def __init__(self, positivity, negativity, words):\n",
    "        self.positivitiy = positivity\n",
    "        self.negativity = negativity\n",
    "        self.words = words\n",
    "\n",
    "    def lentgth_of_sentence(self):\n",
    "        len = 0\n",
    "        for i in self.words:\n",
    "            len+= i.weight\n",
    "        return len\n",
    "\n",
    "    def sentence_printer(self):\n",
    "        print(\"\")\n",
    "        for i in self.words:\n",
    "            print(i,\" \", end='')\n",
    "\n"
   ]
  }
 ],
 "metadata": {
  "kernelspec": {
   "display_name": "Python 3",
   "language": "python",
   "name": "python3"
  },
  "language_info": {
   "codemirror_mode": {
    "name": "ipython",
    "version": 3
   },
   "file_extension": ".py",
   "mimetype": "text/x-python",
   "name": "python",
   "nbconvert_exporter": "python",
   "pygments_lexer": "ipython3",
   "version": "3.7.1"
  }
 },
 "nbformat": 4,
 "nbformat_minor": 2
}
